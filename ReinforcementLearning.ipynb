{
  "nbformat": 4,
  "nbformat_minor": 0,
  "metadata": {
    "colab": {
      "provenance": [],
      "authorship_tag": "ABX9TyN8bvRWyGlIZBqdHElVTzcU",
      "include_colab_link": true
    },
    "kernelspec": {
      "name": "python3",
      "display_name": "Python 3"
    },
    "language_info": {
      "name": "python"
    }
  },
  "cells": [
    {
      "cell_type": "markdown",
      "metadata": {
        "id": "view-in-github",
        "colab_type": "text"
      },
      "source": [
        "<a href=\"https://colab.research.google.com/github/LAguirr/ReiforcementLearningNB/blob/main/ReinforcementLearning.ipynb\" target=\"_parent\"><img src=\"https://colab.research.google.com/assets/colab-badge.svg\" alt=\"Open In Colab\"/></a>"
      ]
    },
    {
      "cell_type": "code",
      "source": [
        "import gym\n",
        "import numpy as np\n",
        "\n",
        "def collect_data(env_name, policy, num_episodes=100):\n",
        "    env = gym.make(env_name)\n",
        "    dataset = {\"states\": [], \"actions\": [], \"rewards\": [], \"next_states\": [], \"dones\": []}\n",
        "\n",
        "    for episode in range(num_episodes):\n",
        "        state = env.reset()\n",
        "        done = False\n",
        "\n",
        "        while not done:\n",
        "            # Select action using policy\n",
        "            action = policy(state, env)\n",
        "\n",
        "            # Step through the environment\n",
        "            next_state, reward, done, _ = env.step(action)\n",
        "\n",
        "            # Save data\n",
        "            dataset[\"states\"].append(state)\n",
        "            dataset[\"actions\"].append(action)\n",
        "            dataset[\"rewards\"].append(reward)\n",
        "            dataset[\"next_states\"].append(next_state)\n",
        "            dataset[\"dones\"].append(done)\n",
        "\n",
        "            state = next_state\n",
        "\n",
        "    env.close()\n",
        "\n",
        "    # Convert to numpy arrays for ease of use\n",
        "    for key in dataset:\n",
        "        dataset[key] = np.array(dataset[key])\n",
        "\n",
        "    return dataset\n",
        "\n",
        "# Example random policy\n",
        "def random_policy(state, env):\n",
        "    return env.action_space.sample()\n",
        "\n",
        "# Generate dataset\n",
        "env_name = \"CartPole-v1\"  # Example environment\n",
        "dataset = collect_data(env_name, random_policy, num_episodes=500)\n"
      ],
      "metadata": {
        "colab": {
          "base_uri": "https://localhost:8080/"
        },
        "id": "gMt04JYq7wtJ",
        "outputId": "77672aba-c17d-4e61-f02b-791b27a75a0f"
      },
      "execution_count": 5,
      "outputs": [
        {
          "output_type": "stream",
          "name": "stderr",
          "text": [
            "/usr/local/lib/python3.11/dist-packages/ipykernel/ipkernel.py:283: DeprecationWarning: `should_run_async` will not call `transform_cell` automatically in the future. Please pass the result to `transformed_cell` argument and any exception that happen during thetransform in `preprocessing_exc_tuple` in IPython 7.17 and above.\n",
            "  and should_run_async(code)\n",
            "/usr/local/lib/python3.11/dist-packages/gym/core.py:317: DeprecationWarning: \u001b[33mWARN: Initializing wrapper in old step API which returns one bool instead of two. It is recommended to set `new_step_api=True` to use new step API. This will be the default behaviour in future.\u001b[0m\n",
            "  deprecation(\n",
            "/usr/local/lib/python3.11/dist-packages/gym/wrappers/step_api_compatibility.py:39: DeprecationWarning: \u001b[33mWARN: Initializing environment in old step API which returns one bool instead of two. It is recommended to set `new_step_api=True` to use new step API. This will be the default behaviour in future.\u001b[0m\n",
            "  deprecation(\n",
            "/usr/local/lib/python3.11/dist-packages/gym/utils/passive_env_checker.py:241: DeprecationWarning: `np.bool8` is a deprecated alias for `np.bool_`.  (Deprecated NumPy 1.24)\n",
            "  if not isinstance(terminated, (bool, np.bool8)):\n"
          ]
        }
      ]
    },
    {
      "cell_type": "code",
      "source": [
        "dataset"
      ],
      "metadata": {
        "colab": {
          "base_uri": "https://localhost:8080/"
        },
        "id": "Yavc6HF1KgjB",
        "outputId": "bfbeb778-67b9-43d9-8e1f-091c96c3cd6e"
      },
      "execution_count": 16,
      "outputs": [
        {
          "output_type": "stream",
          "name": "stderr",
          "text": [
            "/usr/local/lib/python3.11/dist-packages/ipykernel/ipkernel.py:283: DeprecationWarning: `should_run_async` will not call `transform_cell` automatically in the future. Please pass the result to `transformed_cell` argument and any exception that happen during thetransform in `preprocessing_exc_tuple` in IPython 7.17 and above.\n",
            "  and should_run_async(code)\n"
          ]
        },
        {
          "output_type": "execute_result",
          "data": {
            "text/plain": [
              "{'states': array([[ 0.00142981,  0.01720034, -0.01356002,  0.0176065 ],\n",
              "        [ 0.00177382, -0.17772454, -0.01320789,  0.3059804 ],\n",
              "        [-0.00178067,  0.0175831 , -0.00708828,  0.0091615 ],\n",
              "        ...,\n",
              "        [ 0.09861352,  0.62638223, -0.15592408, -1.0893327 ],\n",
              "        [ 0.11114116,  0.8231772 , -0.17771073, -1.4266002 ],\n",
              "        [ 0.12760471,  0.63063985, -0.20624274, -1.194315  ]],\n",
              "       dtype=float32),\n",
              " 'actions': array([0, 1, 1, ..., 1, 0, 0]),\n",
              " 'rewards': array([1., 1., 1., ..., 1., 1., 1.]),\n",
              " 'next_states': array([[ 0.00177382, -0.17772454, -0.01320789,  0.3059804 ],\n",
              "        [-0.00178067,  0.0175831 , -0.00708828,  0.0091615 ],\n",
              "        [-0.00142901,  0.21280599, -0.00690505, -0.2857494 ],\n",
              "        ...,\n",
              "        [ 0.11114116,  0.8231772 , -0.17771073, -1.4266002 ],\n",
              "        [ 0.12760471,  0.63063985, -0.20624274, -1.194315  ],\n",
              "        [ 0.1402175 ,  0.43869656, -0.23012903, -0.9727081 ]],\n",
              "       dtype=float32),\n",
              " 'dones': array([False, False, False, ..., False, False,  True])}"
            ]
          },
          "metadata": {},
          "execution_count": 16
        }
      ]
    }
  ]
}